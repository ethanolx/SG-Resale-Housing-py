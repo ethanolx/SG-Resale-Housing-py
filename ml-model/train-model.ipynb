{
 "cells": [
  {
   "cell_type": "markdown",
   "metadata": {},
   "source": [
    "# Machine Learning Model for Predicting Resale Flat Prices (SG)"
   ]
  },
  {
   "cell_type": "markdown",
   "metadata": {},
   "source": [
    "## Import General Dependencies"
   ]
  },
  {
   "cell_type": "code",
   "execution_count": 1,
   "metadata": {},
   "outputs": [],
   "source": [
    "# Data Manipulation Dependencies\n",
    "import numpy as np\n",
    "import pandas as pd\n",
    "from datetime import date\n",
    "\n",
    "# Graphing Dependencies\n",
    "import matplotlib.pyplot as plt\n",
    "import seaborn as sns\n",
    "\n",
    "# Machine Learning Dependencies\n",
    "from sklearn.model_selection import train_test_split, cross_val_score\n",
    "from sklearn.base import BaseEstimator, TransformerMixin\n",
    "from sklearn.preprocessing import StandardScaler\n",
    "from sklearn.linear_model import LinearRegression\n",
    "from sklearn.pipeline import Pipeline\n",
    "from sklearn.metrics import mean_absolute_percentage_error, mean_absolute_error, r2_score\n",
    "\n",
    "# Miscellaneous Dependencies\n",
    "import warnings"
   ]
  },
  {
   "cell_type": "code",
   "execution_count": 2,
   "metadata": {},
   "outputs": [],
   "source": [
    "warnings.filterwarnings('ignore')"
   ]
  },
  {
   "cell_type": "markdown",
   "metadata": {},
   "source": [
    "## Import Data"
   ]
  },
  {
   "cell_type": "code",
   "execution_count": 3,
   "metadata": {},
   "outputs": [
    {
     "data": {
      "text/html": [
       "<div>\n",
       "<style scoped>\n",
       "    .dataframe tbody tr th:only-of-type {\n",
       "        vertical-align: middle;\n",
       "    }\n",
       "\n",
       "    .dataframe tbody tr th {\n",
       "        vertical-align: top;\n",
       "    }\n",
       "\n",
       "    .dataframe thead th {\n",
       "        text-align: right;\n",
       "    }\n",
       "</style>\n",
       "<table border=\"1\" class=\"dataframe\">\n",
       "  <thead>\n",
       "    <tr style=\"text-align: right;\">\n",
       "      <th></th>\n",
       "      <th>month</th>\n",
       "      <th>town</th>\n",
       "      <th>flat_type</th>\n",
       "      <th>block</th>\n",
       "      <th>street_name</th>\n",
       "      <th>storey_range</th>\n",
       "      <th>floor_area_sqm</th>\n",
       "      <th>flat_model</th>\n",
       "      <th>lease_commence_date</th>\n",
       "      <th>resale_price</th>\n",
       "    </tr>\n",
       "  </thead>\n",
       "  <tbody>\n",
       "    <tr>\n",
       "      <th>0</th>\n",
       "      <td>1990-01</td>\n",
       "      <td>ANG MO KIO</td>\n",
       "      <td>1 ROOM</td>\n",
       "      <td>309</td>\n",
       "      <td>ANG MO KIO AVE 1</td>\n",
       "      <td>10 TO 12</td>\n",
       "      <td>31.0</td>\n",
       "      <td>IMPROVED</td>\n",
       "      <td>1977</td>\n",
       "      <td>9000</td>\n",
       "    </tr>\n",
       "    <tr>\n",
       "      <th>1</th>\n",
       "      <td>1990-01</td>\n",
       "      <td>ANG MO KIO</td>\n",
       "      <td>1 ROOM</td>\n",
       "      <td>309</td>\n",
       "      <td>ANG MO KIO AVE 1</td>\n",
       "      <td>04 TO 06</td>\n",
       "      <td>31.0</td>\n",
       "      <td>IMPROVED</td>\n",
       "      <td>1977</td>\n",
       "      <td>6000</td>\n",
       "    </tr>\n",
       "    <tr>\n",
       "      <th>2</th>\n",
       "      <td>1990-01</td>\n",
       "      <td>ANG MO KIO</td>\n",
       "      <td>1 ROOM</td>\n",
       "      <td>309</td>\n",
       "      <td>ANG MO KIO AVE 1</td>\n",
       "      <td>10 TO 12</td>\n",
       "      <td>31.0</td>\n",
       "      <td>IMPROVED</td>\n",
       "      <td>1977</td>\n",
       "      <td>8000</td>\n",
       "    </tr>\n",
       "    <tr>\n",
       "      <th>3</th>\n",
       "      <td>1990-01</td>\n",
       "      <td>ANG MO KIO</td>\n",
       "      <td>1 ROOM</td>\n",
       "      <td>309</td>\n",
       "      <td>ANG MO KIO AVE 1</td>\n",
       "      <td>07 TO 09</td>\n",
       "      <td>31.0</td>\n",
       "      <td>IMPROVED</td>\n",
       "      <td>1977</td>\n",
       "      <td>6000</td>\n",
       "    </tr>\n",
       "    <tr>\n",
       "      <th>4</th>\n",
       "      <td>1990-01</td>\n",
       "      <td>ANG MO KIO</td>\n",
       "      <td>3 ROOM</td>\n",
       "      <td>216</td>\n",
       "      <td>ANG MO KIO AVE 1</td>\n",
       "      <td>04 TO 06</td>\n",
       "      <td>73.0</td>\n",
       "      <td>NEW GENERATION</td>\n",
       "      <td>1976</td>\n",
       "      <td>47200</td>\n",
       "    </tr>\n",
       "  </tbody>\n",
       "</table>\n",
       "</div>"
      ],
      "text/plain": [
       "     month        town flat_type block       street_name storey_range  \\\n",
       "0  1990-01  ANG MO KIO    1 ROOM   309  ANG MO KIO AVE 1     10 TO 12   \n",
       "1  1990-01  ANG MO KIO    1 ROOM   309  ANG MO KIO AVE 1     04 TO 06   \n",
       "2  1990-01  ANG MO KIO    1 ROOM   309  ANG MO KIO AVE 1     10 TO 12   \n",
       "3  1990-01  ANG MO KIO    1 ROOM   309  ANG MO KIO AVE 1     07 TO 09   \n",
       "4  1990-01  ANG MO KIO    3 ROOM   216  ANG MO KIO AVE 1     04 TO 06   \n",
       "\n",
       "   floor_area_sqm      flat_model  lease_commence_date  resale_price  \n",
       "0            31.0        IMPROVED                 1977          9000  \n",
       "1            31.0        IMPROVED                 1977          6000  \n",
       "2            31.0        IMPROVED                 1977          8000  \n",
       "3            31.0        IMPROVED                 1977          6000  \n",
       "4            73.0  NEW GENERATION                 1976         47200  "
      ]
     },
     "execution_count": 3,
     "metadata": {},
     "output_type": "execute_result"
    }
   ],
   "source": [
    "df = pd.read_csv('./data/flat-prices.csv', sep=',', header=0)\n",
    "df.head()"
   ]
  },
  {
   "cell_type": "code",
   "execution_count": 4,
   "metadata": {},
   "outputs": [
    {
     "name": "stdout",
     "output_type": "stream",
     "text": [
      "<class 'pandas.core.frame.DataFrame'>\n",
      "RangeIndex: 287196 entries, 0 to 287195\n",
      "Data columns (total 10 columns):\n",
      " #   Column               Non-Null Count   Dtype  \n",
      "---  ------               --------------   -----  \n",
      " 0   month                287196 non-null  object \n",
      " 1   town                 287196 non-null  object \n",
      " 2   flat_type            287196 non-null  object \n",
      " 3   block                287196 non-null  object \n",
      " 4   street_name          287196 non-null  object \n",
      " 5   storey_range         287196 non-null  object \n",
      " 6   floor_area_sqm       287196 non-null  float64\n",
      " 7   flat_model           287196 non-null  object \n",
      " 8   lease_commence_date  287196 non-null  int64  \n",
      " 9   resale_price         287196 non-null  int64  \n",
      "dtypes: float64(1), int64(2), object(7)\n",
      "memory usage: 21.9+ MB\n"
     ]
    }
   ],
   "source": [
    "df.info()"
   ]
  },
  {
   "cell_type": "code",
   "execution_count": 5,
   "metadata": {},
   "outputs": [
    {
     "data": {
      "text/html": [
       "<div>\n",
       "<style scoped>\n",
       "    .dataframe tbody tr th:only-of-type {\n",
       "        vertical-align: middle;\n",
       "    }\n",
       "\n",
       "    .dataframe tbody tr th {\n",
       "        vertical-align: top;\n",
       "    }\n",
       "\n",
       "    .dataframe thead th {\n",
       "        text-align: right;\n",
       "    }\n",
       "</style>\n",
       "<table border=\"1\" class=\"dataframe\">\n",
       "  <thead>\n",
       "    <tr style=\"text-align: right;\">\n",
       "      <th></th>\n",
       "      <th>floor_area_sqm</th>\n",
       "      <th>lease_commence_date</th>\n",
       "      <th>resale_price</th>\n",
       "    </tr>\n",
       "  </thead>\n",
       "  <tbody>\n",
       "    <tr>\n",
       "      <th>count</th>\n",
       "      <td>287196.000000</td>\n",
       "      <td>287196.000000</td>\n",
       "      <td>287196.00000</td>\n",
       "    </tr>\n",
       "    <tr>\n",
       "      <th>mean</th>\n",
       "      <td>93.351778</td>\n",
       "      <td>1983.206897</td>\n",
       "      <td>219541.67471</td>\n",
       "    </tr>\n",
       "    <tr>\n",
       "      <th>std</th>\n",
       "      <td>27.361872</td>\n",
       "      <td>6.085632</td>\n",
       "      <td>128145.25346</td>\n",
       "    </tr>\n",
       "    <tr>\n",
       "      <th>min</th>\n",
       "      <td>28.000000</td>\n",
       "      <td>1967.000000</td>\n",
       "      <td>5000.00000</td>\n",
       "    </tr>\n",
       "    <tr>\n",
       "      <th>25%</th>\n",
       "      <td>68.000000</td>\n",
       "      <td>1979.000000</td>\n",
       "      <td>127000.00000</td>\n",
       "    </tr>\n",
       "    <tr>\n",
       "      <th>50%</th>\n",
       "      <td>91.000000</td>\n",
       "      <td>1984.000000</td>\n",
       "      <td>195000.00000</td>\n",
       "    </tr>\n",
       "    <tr>\n",
       "      <th>75%</th>\n",
       "      <td>113.000000</td>\n",
       "      <td>1987.000000</td>\n",
       "      <td>298000.00000</td>\n",
       "    </tr>\n",
       "    <tr>\n",
       "      <th>max</th>\n",
       "      <td>307.000000</td>\n",
       "      <td>1997.000000</td>\n",
       "      <td>900000.00000</td>\n",
       "    </tr>\n",
       "  </tbody>\n",
       "</table>\n",
       "</div>"
      ],
      "text/plain": [
       "       floor_area_sqm  lease_commence_date  resale_price\n",
       "count   287196.000000        287196.000000  287196.00000\n",
       "mean        93.351778          1983.206897  219541.67471\n",
       "std         27.361872             6.085632  128145.25346\n",
       "min         28.000000          1967.000000    5000.00000\n",
       "25%         68.000000          1979.000000  127000.00000\n",
       "50%         91.000000          1984.000000  195000.00000\n",
       "75%        113.000000          1987.000000  298000.00000\n",
       "max        307.000000          1997.000000  900000.00000"
      ]
     },
     "execution_count": 5,
     "metadata": {},
     "output_type": "execute_result"
    }
   ],
   "source": [
    "df.describe()"
   ]
  },
  {
   "cell_type": "markdown",
   "metadata": {},
   "source": [
    "## Exploratory Data Analysis"
   ]
  },
  {
   "cell_type": "code",
   "execution_count": 47,
   "metadata": {},
   "outputs": [
    {
     "data": {
      "text/plain": [
       "<AxesSubplot:xlabel='floor_area_sqm', ylabel='resale_price'>"
      ]
     },
     "execution_count": 47,
     "metadata": {},
     "output_type": "execute_result"
    },
    {
     "data": {
      "image/png": "[encoded data removed]",
      "text/plain": [
       "<Figure size 432x288 with 1 Axes>"
      ]
     },
     "metadata": {
      "needs_background": "light"
     },
     "output_type": "display_data"
    }
   ],
   "source": [
    "# View relationship between floor area of flat and resale price\n",
    "# Definitely a moderate positive relationship\n",
    "sns.scatterplot(data=df, x='floor_area_sqm', y='resale_price')"
   ]
  },
  {
   "cell_type": "code",
   "execution_count": 6,
   "metadata": {},
   "outputs": [
    {
     "data": {
      "text/plain": [
       "<AxesSubplot:xlabel='resale_price', ylabel='Count'>"
      ]
     },
     "execution_count": 6,
     "metadata": {},
     "output_type": "execute_result"
    },
    {
     "data": {
      "image/png": "[encoded data removed]",
      "text/plain": [
       "<Figure size 432x288 with 1 Axes>"
      ]
     },
     "metadata": {
      "needs_background": "light"
     },
     "output_type": "display_data"
    }
   ],
   "source": [
    "# View distribution of resale prices\n",
    "# Very positively skewed\n",
    "sns.histplot(data=df, x='resale_price', color='orange')"
   ]
  },
  {
   "cell_type": "code",
   "execution_count": 7,
   "metadata": {},
   "outputs": [
    {
     "data": {
      "text/plain": [
       "<AxesSubplot:xlabel='flat_type', ylabel='count'>"
      ]
     },
     "execution_count": 7,
     "metadata": {},
     "output_type": "execute_result"
    },
    {
     "data": {
      "image/png": "[encoded data removed]",
      "text/plain": [
       "<Figure size 432x288 with 1 Axes>"
      ]
     },
     "metadata": {
      "needs_background": "light"
     },
     "output_type": "display_data"
    }
   ],
   "source": [
    "# View distribution of flat types\n",
    "sns.countplot(data=df, x='flat_type')"
   ]
  },
  {
   "cell_type": "code",
   "execution_count": 8,
   "metadata": {},
   "outputs": [
    {
     "data": {
      "text/plain": [
       "<AxesSubplot:xlabel='storey_range', ylabel='count'>"
      ]
     },
     "execution_count": 8,
     "metadata": {},
     "output_type": "execute_result"
    },
    {
     "data": {
      "image/png": "[encoded data removed]",
      "text/plain": [
       "<Figure size 432x288 with 1 Axes>"
      ]
     },
     "metadata": {
      "needs_background": "light"
     },
     "output_type": "display_data"
    }
   ],
   "source": [
    "# View distribution of storey ranges\n",
    "sns.countplot(data=df, x='storey_range')"
   ]
  },
  {
   "cell_type": "markdown",
   "metadata": {},
   "source": [
    "## Data Pre-Processing"
   ]
  },
  {
   "cell_type": "code",
   "execution_count": 9,
   "metadata": {},
   "outputs": [],
   "source": [
    "# Remove outliers\n",
    "df = df[df['floor_area_sqm'] < 200]"
   ]
  },
  {
   "cell_type": "code",
   "execution_count": 10,
   "metadata": {},
   "outputs": [],
   "source": [
    "# Convert approval_date to datetime type\n",
    "df['approval_date'] = pd.to_datetime(df['month'], format='%Y-%m')"
   ]
  },
  {
   "cell_type": "code",
   "execution_count": 11,
   "metadata": {},
   "outputs": [],
   "source": [
    "# Rename lease_commence_date to more appropriate \"lease_commencement_year\"\n",
    "df['lease_commencement_year'] = df['lease_commence_date']"
   ]
  },
  {
   "cell_type": "code",
   "execution_count": 12,
   "metadata": {},
   "outputs": [],
   "source": [
    "# Extract number of bedrooms from flat_type\n",
    "df['bedrooms'] = df['flat_type'].apply(lambda x: {\n",
    "    '1 ROOM': 1,\n",
    "    '2 ROOM': 1,\n",
    "    '3 ROOM': 2,\n",
    "    '4 ROOM': 3,\n",
    "    '5 ROOM': 3,\n",
    "    'EXECUTIVE': 3,\n",
    "    'MULTI GENERATION': 4\n",
    "}[x])"
   ]
  },
  {
   "cell_type": "code",
   "execution_count": 13,
   "metadata": {},
   "outputs": [],
   "source": [
    "# Convert resale_price (target) to float type\n",
    "df['resale_price'] = df['resale_price'].astype(float)"
   ]
  },
  {
   "cell_type": "code",
   "execution_count": 14,
   "metadata": {},
   "outputs": [],
   "source": [
    "# Drop unused columns\n",
    "df.drop(columns=[\n",
    "    'month',\n",
    "    'town',\n",
    "    'flat_type',\n",
    "    'block',\n",
    "    'street_name',\n",
    "    'storey_range',\n",
    "    'flat_model',\n",
    "    'lease_commence_date'\n",
    "], inplace=True)\n"
   ]
  },
  {
   "cell_type": "markdown",
   "metadata": {},
   "source": [
    "## Partition Data"
   ]
  },
  {
   "cell_type": "code",
   "execution_count": 15,
   "metadata": {},
   "outputs": [],
   "source": [
    "# Separate the feature data from the target labels\n",
    "X = df.drop(columns='resale_price')\n",
    "y = df['resale_price']"
   ]
  },
  {
   "cell_type": "code",
   "execution_count": 16,
   "metadata": {},
   "outputs": [],
   "source": [
    "# Split the data into training and testing partitions to avoid leaking data\n",
    "X_train, X_test, y_train, y_test = train_test_split(X, y, shuffle=True, test_size=0.25)"
   ]
  },
  {
   "cell_type": "markdown",
   "metadata": {},
   "source": [
    "## Build ML Pipeline"
   ]
  },
  {
   "cell_type": "code",
   "execution_count": 17,
   "metadata": {},
   "outputs": [],
   "source": [
    "# Custom transformer to convert the approval_date column to integer type before fitting the model\n",
    "class DateConverter(BaseEstimator, TransformerMixin):\n",
    "    def fit(self, X, y=None):\n",
    "        return self\n",
    "\n",
    "    def transform(self, X, y=None):\n",
    "        X_copy = X.copy()\n",
    "        X_copy['approval_date'] = X_copy['approval_date'].apply(date.toordinal)\n",
    "        return X_copy"
   ]
  },
  {
   "cell_type": "code",
   "execution_count": 18,
   "metadata": {},
   "outputs": [],
   "source": [
    "# pipeline = Pipeline(steps=[\n",
    "#     ('date_conv', DateConverter()),\n",
    "#     ('scaler', StandardScaler()),\n",
    "#     ('model', LinearRegression(fit_intercept=True))\n",
    "# ])"
   ]
  },
  {
   "cell_type": "code",
   "execution_count": 20,
   "metadata": {},
   "outputs": [],
   "source": [
    "# Load the saved model\n",
    "import cloudpickle\n",
    "with open('./models/regressor.p', 'rb') as f:\n",
    "    pipeline = cloudpickle.load(f)"
   ]
  },
  {
   "cell_type": "code",
   "execution_count": 21,
   "metadata": {},
   "outputs": [
    {
     "data": {
      "text/plain": [
       "array([0.78485796, 0.78819699, 0.78479902, 0.79097708, 0.78646528])"
      ]
     },
     "execution_count": 21,
     "metadata": {},
     "output_type": "execute_result"
    }
   ],
   "source": [
    "# Intermediate evaluation\n",
    "# 0.78 is a decent score\n",
    "# LR model is a very simple model\n",
    "cross_val_score(estimator=pipeline, X=X_train, y=y_train, cv=5)"
   ]
  },
  {
   "cell_type": "markdown",
   "metadata": {},
   "source": [
    "## Model Evaluation"
   ]
  },
  {
   "cell_type": "code",
   "execution_count": 22,
   "metadata": {},
   "outputs": [
    {
     "data": {
      "text/plain": [
       "Pipeline(steps=[('date_conv', DateConverter()), ('scaler', StandardScaler()),\n",
       "                ('model', LinearRegression())])"
      ]
     },
     "execution_count": 22,
     "metadata": {},
     "output_type": "execute_result"
    }
   ],
   "source": [
    "# Train the model\n",
    "pipeline.fit(X_train, y_train)"
   ]
  },
  {
   "cell_type": "code",
   "execution_count": 23,
   "metadata": {},
   "outputs": [
    {
     "name": "stdout",
     "output_type": "stream",
     "text": [
      "MAPE:\t 0.2673424543890236\n",
      "MAE:\t 44377.05099599564\n",
      "R2:\t 0.787088796593596\n"
     ]
    }
   ],
   "source": [
    "# Evaluate the model on training data\n",
    "y_train_pred = pipeline.predict(X_train)\n",
    "print('MAPE:\\t', mean_absolute_percentage_error(y_train, y_train_pred))\n",
    "print('MAE:\\t', mean_absolute_error(y_train, y_train_pred))\n",
    "print('R2:\\t', r2_score(y_train, y_train_pred))"
   ]
  },
  {
   "cell_type": "code",
   "execution_count": 24,
   "metadata": {},
   "outputs": [
    {
     "name": "stdout",
     "output_type": "stream",
     "text": [
      "MAPE:\t 0.2693710011748552\n",
      "MAE:\t 44493.09238295867\n",
      "R2:\t 0.7845894964426041\n"
     ]
    }
   ],
   "source": [
    "# Evaluate the model on testing data\n",
    "y_pred = pipeline.predict(X_test)\n",
    "print('MAPE:\\t', mean_absolute_percentage_error(y_test, y_pred))\n",
    "print('MAE:\\t', mean_absolute_error(y_test, y_pred))\n",
    "print('R2:\\t', r2_score(y_test, y_pred))"
   ]
  },
  {
   "cell_type": "code",
   "execution_count": 25,
   "metadata": {},
   "outputs": [
    {
     "data": {
      "text/html": [
       "<div>\n",
       "<style scoped>\n",
       "    .dataframe tbody tr th:only-of-type {\n",
       "        vertical-align: middle;\n",
       "    }\n",
       "\n",
       "    .dataframe tbody tr th {\n",
       "        vertical-align: top;\n",
       "    }\n",
       "\n",
       "    .dataframe thead th {\n",
       "        text-align: right;\n",
       "    }\n",
       "</style>\n",
       "<table border=\"1\" class=\"dataframe\">\n",
       "  <thead>\n",
       "    <tr style=\"text-align: right;\">\n",
       "      <th></th>\n",
       "      <th>floor_area_sqm</th>\n",
       "      <th>approval_date</th>\n",
       "      <th>lease_commencement_year</th>\n",
       "      <th>bedrooms</th>\n",
       "    </tr>\n",
       "  </thead>\n",
       "  <tbody>\n",
       "    <tr>\n",
       "      <th>0</th>\n",
       "      <td>99406.891681</td>\n",
       "      <td>50971.744276</td>\n",
       "      <td>-4804.3366</td>\n",
       "      <td>-2009.109609</td>\n",
       "    </tr>\n",
       "  </tbody>\n",
       "</table>\n",
       "</div>"
      ],
      "text/plain": [
       "   floor_area_sqm  approval_date  lease_commencement_year     bedrooms\n",
       "0    99406.891681   50971.744276               -4804.3366 -2009.109609"
      ]
     },
     "execution_count": 25,
     "metadata": {},
     "output_type": "execute_result"
    }
   ],
   "source": [
    "# View the LR model's coefficients\n",
    "pd.DataFrame(\n",
    "    data=[pipeline.named_steps['model'].coef_],\n",
    "    columns=X.columns\n",
    ")"
   ]
  },
  {
   "cell_type": "code",
   "execution_count": null,
   "metadata": {},
   "outputs": [
    {
     "data": {
      "text/plain": [
       "219590.35817430512"
      ]
     },
     "execution_count": 66,
     "metadata": {},
     "output_type": "execute_result"
    }
   ],
   "source": [
    "# View the LR model's bias\n",
    "pipeline.named_steps['model'].intercept_"
   ]
  },
  {
   "cell_type": "markdown",
   "metadata": {},
   "source": [
    "The LR model can be thus defined as\n",
    "    \n",
    "$\\hat{y} = 99000 f + 50000 a - 4800 l - 2000 b + 220000$\n",
    "\n",
    "where:\n",
    "- f = floor area in m<sup>2</sup>\n",
    "- a = approval date in ordinal form\n",
    "- l = lease commencement year\n",
    "- b = number of bedrooms"
   ]
  },
  {
   "cell_type": "markdown",
   "metadata": {},
   "source": [
    "## Regression Plot Utilities"
   ]
  },
  {
   "cell_type": "code",
   "execution_count": 26,
   "metadata": {},
   "outputs": [],
   "source": [
    "# Fixes all other variables besides one\n",
    "def create_stencil(variable: str, **kwargs):\n",
    "    length = len(kwargs[variable])\n",
    "    for i in kwargs:\n",
    "        if i != variable:\n",
    "            kwargs[i] = np.resize(np.array([kwargs[i]]), (length,))\n",
    "    return pd.DataFrame(kwargs)[['floor_area_sqm', 'approval_date', 'lease_commencement_year', 'bedrooms']]"
   ]
  },
  {
   "cell_type": "code",
   "execution_count": 27,
   "metadata": {},
   "outputs": [
    {
     "data": {
      "text/html": [
       "<div>\n",
       "<style scoped>\n",
       "    .dataframe tbody tr th:only-of-type {\n",
       "        vertical-align: middle;\n",
       "    }\n",
       "\n",
       "    .dataframe tbody tr th {\n",
       "        vertical-align: top;\n",
       "    }\n",
       "\n",
       "    .dataframe thead th {\n",
       "        text-align: right;\n",
       "    }\n",
       "</style>\n",
       "<table border=\"1\" class=\"dataframe\">\n",
       "  <thead>\n",
       "    <tr style=\"text-align: right;\">\n",
       "      <th></th>\n",
       "      <th>floor_area_sqm</th>\n",
       "      <th>approval_date</th>\n",
       "      <th>lease_commencement_year</th>\n",
       "      <th>bedrooms</th>\n",
       "    </tr>\n",
       "  </thead>\n",
       "  <tbody>\n",
       "    <tr>\n",
       "      <th>0</th>\n",
       "      <td>100.0</td>\n",
       "      <td>1997-12-03</td>\n",
       "      <td>2000</td>\n",
       "      <td>3</td>\n",
       "    </tr>\n",
       "    <tr>\n",
       "      <th>1</th>\n",
       "      <td>100.0</td>\n",
       "      <td>2000-06-07</td>\n",
       "      <td>2000</td>\n",
       "      <td>3</td>\n",
       "    </tr>\n",
       "  </tbody>\n",
       "</table>\n",
       "</div>"
      ],
      "text/plain": [
       "   floor_area_sqm approval_date  lease_commencement_year  bedrooms\n",
       "0           100.0    1997-12-03                     2000         3\n",
       "1           100.0    2000-06-07                     2000         3"
      ]
     },
     "execution_count": 27,
     "metadata": {},
     "output_type": "execute_result"
    }
   ],
   "source": [
    "create_stencil(variable='approval_date', floor_area_sqm=100.0, approval_date=[date(1997, 12, 3), date(2000, 6, 7)], lease_commencement_year=2000, bedrooms=3)"
   ]
  },
  {
   "cell_type": "code",
   "execution_count": 29,
   "metadata": {},
   "outputs": [
    {
     "data": {
      "text/html": [
       "<div>\n",
       "<style scoped>\n",
       "    .dataframe tbody tr th:only-of-type {\n",
       "        vertical-align: middle;\n",
       "    }\n",
       "\n",
       "    .dataframe tbody tr th {\n",
       "        vertical-align: top;\n",
       "    }\n",
       "\n",
       "    .dataframe thead th {\n",
       "        text-align: right;\n",
       "    }\n",
       "</style>\n",
       "<table border=\"1\" class=\"dataframe\">\n",
       "  <thead>\n",
       "    <tr style=\"text-align: right;\">\n",
       "      <th></th>\n",
       "      <th>approval_date</th>\n",
       "      <th>bedrooms</th>\n",
       "      <th>lease_commencement_year</th>\n",
       "      <th>floor_area_sqm</th>\n",
       "    </tr>\n",
       "  </thead>\n",
       "  <tbody>\n",
       "    <tr>\n",
       "      <th>min</th>\n",
       "      <td>1990-01-01</td>\n",
       "      <td>1</td>\n",
       "      <td>1967</td>\n",
       "      <td>28.0</td>\n",
       "    </tr>\n",
       "    <tr>\n",
       "      <th>max</th>\n",
       "      <td>1999-12-01</td>\n",
       "      <td>4</td>\n",
       "      <td>1997</td>\n",
       "      <td>199.0</td>\n",
       "    </tr>\n",
       "  </tbody>\n",
       "</table>\n",
       "</div>"
      ],
      "text/plain": [
       "    approval_date  bedrooms  lease_commencement_year  floor_area_sqm\n",
       "min    1990-01-01         1                     1967            28.0\n",
       "max    1999-12-01         4                     1997           199.0"
      ]
     },
     "execution_count": 29,
     "metadata": {},
     "output_type": "execute_result"
    }
   ],
   "source": [
    "# input_boundaries = pd.DataFrame(data={\n",
    "#     'approval_date': [X['approval_date'].min(), X['approval_date'].max()],\n",
    "#     'bedrooms': [X['bedrooms'].min(), X['bedrooms'].max()],\n",
    "#     'lease_commencement_year': [X['lease_commencement_year'].min(), X['lease_commencement_year'].max()],\n",
    "#     'floor_area_sqm': [X['floor_area_sqm'].min(), X['floor_area_sqm'].max()]\n",
    "# }, index=['min', 'max'])\n",
    "\n",
    "# Load the input_boundaries\n",
    "with open('./models/input_boundaries.p', 'rb') as bounds_file:\n",
    "    input_boundaries = cloudpickle.load(file=bounds_file)\n",
    "input_boundaries"
   ]
  },
  {
   "cell_type": "code",
   "execution_count": 30,
   "metadata": {},
   "outputs": [
    {
     "data": {
      "text/plain": [
       "{'min': 5000.0, 'max': 900000.0}"
      ]
     },
     "execution_count": 30,
     "metadata": {},
     "output_type": "execute_result"
    }
   ],
   "source": [
    "# output_boundaries = dict(min=y.min(), max=y.max())\n",
    "\n",
    "# Load the output boundaries\n",
    "with open('./models/output_boundaries.p', 'rb') as output_bounds_file:\n",
    "    output_boundaries = cloudpickle.load(file=output_bounds_file)\n",
    "output_boundaries"
   ]
  },
  {
   "cell_type": "code",
   "execution_count": 31,
   "metadata": {},
   "outputs": [],
   "source": [
    "def get_regression_plot(variable, mark, ax, pipeline, input_bounds, resale_price, **kwargs):\n",
    "    x_var = input_bounds[variable]\n",
    "\n",
    "    x = (x_var['min'], x_var['max'])\n",
    "    del kwargs[variable]\n",
    "    y = pipeline.predict(create_stencil(\n",
    "        variable, **{variable: x}, **kwargs))\n",
    "    sns.lineplot(x=x, y=y, ax=ax)\n",
    "    sns.scatterplot(x=[mark], y=resale_price, facecolor='red', ax=ax)\n",
    "    ax.set_title(variable)\n",
    "    ax.set_ylabel('Predicted Resale Price')\n",
    "    ax.set_xticks(x)\n",
    "    ax.set_yticklabels([f'{i / 1000:.0f}k' for i in ax.get_yticks()])"
   ]
  },
  {
   "cell_type": "code",
   "execution_count": 32,
   "metadata": {},
   "outputs": [],
   "source": [
    "def get_regression_plots(input_bounds, pipeline, bedrooms, floor_area_sqm, approval_date, lease_commencement_year, resale_price):\n",
    "    fig, ax = plt.subplots(2, 2, figsize=(8, 5))\n",
    "    get_regression_plot(input_bounds=input_bounds, variable='bedrooms', mark=bedrooms, bedrooms=bedrooms, floor_area_sqm=floor_area_sqm,\n",
    "                        approval_date=approval_date, lease_commencement_year=lease_commencement_year, ax=ax[0, 0], pipeline=pipeline, resale_price=resale_price)\n",
    "    get_regression_plot(input_bounds=input_bounds, variable='floor_area_sqm', mark=floor_area_sqm, bedrooms=bedrooms, floor_area_sqm=floor_area_sqm,\n",
    "                        approval_date=approval_date, lease_commencement_year=lease_commencement_year, ax=ax[0, 1], pipeline=pipeline, resale_price=resale_price)\n",
    "    get_regression_plot(input_bounds=input_bounds, variable='approval_date', mark=approval_date, bedrooms=bedrooms, floor_area_sqm=floor_area_sqm,\n",
    "                        approval_date=approval_date, lease_commencement_year=lease_commencement_year, ax=ax[1, 0], pipeline=pipeline, resale_price=resale_price)\n",
    "    get_regression_plot(input_bounds=input_bounds, variable='lease_commencement_year', mark=lease_commencement_year, bedrooms=bedrooms, floor_area_sqm=floor_area_sqm,\n",
    "                        approval_date=approval_date, lease_commencement_year=lease_commencement_year, ax=ax[1, 1], pipeline=pipeline, resale_price=resale_price)\n",
    "    plt.tight_layout()\n",
    "    return fig"
   ]
  },
  {
   "cell_type": "code",
   "execution_count": 40,
   "metadata": {},
   "outputs": [
    {
     "data": {
      "text/plain": [
       "''"
      ]
     },
     "execution_count": 40,
     "metadata": {},
     "output_type": "execute_result"
    },
    {
     "data": {
      "image/png": "[encoded data removed]",
      "text/plain": [
       "<Figure size 576x360 with 4 Axes>"
      ]
     },
     "metadata": {
      "needs_background": "light"
     },
     "output_type": "display_data"
    }
   ],
   "source": [
    "get_regression_plots(\n",
    "    input_bounds=input_boundaries,\n",
    "    pipeline=pipeline,\n",
    "    bedrooms=3,\n",
    "    floor_area_sqm=120.0,\n",
    "    approval_date=date(1997, 3, 1),\n",
    "    lease_commencement_year=1977,\n",
    "    resale_price=334628.05742020323\n",
    ")\n",
    "''"
   ]
  },
  {
   "cell_type": "markdown",
   "metadata": {},
   "source": [
    "## Export Models"
   ]
  },
  {
   "cell_type": "code",
   "execution_count": null,
   "metadata": {},
   "outputs": [],
   "source": [
    "# import cloudpickle\n",
    "\n",
    "# with open('./models/regressor.p', 'wb') as model_file:\n",
    "#     cloudpickle.dump(file=model_file, obj=pipeline)\n",
    "\n",
    "# with open('./models/input_boundaries.p', 'wb') as bounds_file:\n",
    "#     cloudpickle.dump(file=bounds_file, obj=input_boundaries)\n",
    "\n",
    "# with open('./models/output_boundaries.p', 'wb') as output_bounds_file:\n",
    "#     cloudpickle.dump(file=output_bounds_file, obj=output_boundaries)"
   ]
  }
 ],
 "metadata": {
  "interpreter": {
   "hash": "903f17760bf9cfa59f44961d0ea416698e630e30d65fb8b5c50ed189835dfac9"
  },
  "kernelspec": {
   "display_name": "Python 3.9.7 64-bit ('.venv': pipenv)",
   "name": "python3"
  },
  "language_info": {
   "codemirror_mode": {
    "name": "ipython",
    "version": 3
   },
   "file_extension": ".py",
   "mimetype": "text/x-python",
   "name": "python",
   "nbconvert_exporter": "python",
   "pygments_lexer": "ipython3",
   "version": "3.9.7"
  },
  "orig_nbformat": 4
 },
 "nbformat": 4,
 "nbformat_minor": 2
}
