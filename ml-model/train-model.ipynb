{
 "cells": [
  {
   "cell_type": "markdown",
   "metadata": {},
   "source": [
    "# Training the ML Model"
   ]
  },
  {
   "cell_type": "markdown",
   "metadata": {},
   "source": [
    "## Import General Dependencies"
   ]
  },
  {
   "cell_type": "code",
   "execution_count": null,
   "metadata": {},
   "outputs": [],
   "source": [
    "# Data Manipulation Dependencies\n",
    "import numpy as np\n",
    "import pandas as pd\n",
    "from datetime import date\n",
    "\n",
    "# Graphing Dependencies\n",
    "import matplotlib.pyplot as plt\n",
    "import seaborn as sns\n",
    "\n",
    "# Machine Learning Dependencies\n",
    "from sklearn.model_selection import train_test_split, cross_val_score\n",
    "from sklearn.preprocessing import StandardScaler\n",
    "from sklearn.pipeline import Pipeline\n",
    "from sklearn.linear_model import LinearRegression\n",
    "from sklearn.metrics import mean_absolute_percentage_error, mean_absolute_error, r2_score"
   ]
  },
  {
   "cell_type": "markdown",
   "metadata": {},
   "source": [
    "## Import Data"
   ]
  },
  {
   "cell_type": "code",
   "execution_count": null,
   "metadata": {},
   "outputs": [],
   "source": [
    "df = pd.read_csv('./data/flat-prices.csv', sep=',', header=0)\n",
    "df.head()"
   ]
  },
  {
   "cell_type": "code",
   "execution_count": null,
   "metadata": {},
   "outputs": [],
   "source": [
    "df.info()"
   ]
  },
  {
   "cell_type": "code",
   "execution_count": null,
   "metadata": {},
   "outputs": [],
   "source": [
    "df.describe()"
   ]
  },
  {
   "cell_type": "markdown",
   "metadata": {},
   "source": [
    "## Data Pre-Processing"
   ]
  },
  {
   "cell_type": "code",
   "execution_count": null,
   "metadata": {},
   "outputs": [],
   "source": [
    "# Convert approval_date to datetime type\n",
    "df['approval_date'] = pd.DatetimeIndex(df['month'])\n",
    "\n",
    "# Convert approval_date to integer type\n",
    "# df['approval_date'] = df['approval_date'].apply(lambda x: date.toordinal(x))"
   ]
  },
  {
   "cell_type": "code",
   "execution_count": null,
   "metadata": {},
   "outputs": [],
   "source": [
    "# Rename lease_commence_date to more appropriate \"lease_commencement_year\"\n",
    "df['lease_commencement_year'] = df['lease_commence_date']"
   ]
  },
  {
   "cell_type": "code",
   "execution_count": null,
   "metadata": {},
   "outputs": [],
   "source": [
    "# Estimate storey using storey_range\n",
    "df['storey'] = df['storey_range'].apply(lambda x: int(np.array(x.split(' TO '), dtype=int).mean()))"
   ]
  },
  {
   "cell_type": "code",
   "execution_count": null,
   "metadata": {},
   "outputs": [],
   "source": [
    "# Extract number of bedrooms from flat_type\n",
    "df['bedrooms'] = df['flat_type'].apply(lambda x: {\n",
    "    '1 ROOM': 1,\n",
    "    '2 ROOM': 1,\n",
    "    '3 ROOM': 2,\n",
    "    '4 ROOM': 3,\n",
    "    '5 ROOM': 3,\n",
    "    'EXECUTIVE': 3,\n",
    "    'MULTI GENERATION': 4\n",
    "}[x])"
   ]
  },
  {
   "cell_type": "code",
   "execution_count": null,
   "metadata": {},
   "outputs": [],
   "source": [
    "# Convert resale_price (target) to float type\n",
    "df['resale_price'] = df['resale_price'].astype(float)"
   ]
  },
  {
   "cell_type": "code",
   "execution_count": null,
   "metadata": {},
   "outputs": [],
   "source": [
    "# Drop unused columns\n",
    "df.drop(columns=[\n",
    "    'month',\n",
    "    'town',\n",
    "    'flat_type',\n",
    "    'block',\n",
    "    'street_name',\n",
    "    'storey_range',\n",
    "    'flat_model',\n",
    "    'lease_commence_date',\n",
    "    'storey',\n",
    "    # 'approval_date',\n",
    "    # 'lease_commencement_year'\n",
    "], inplace=True)\n"
   ]
  },
  {
   "cell_type": "markdown",
   "metadata": {},
   "source": [
    "## Exploratory Data Analysis"
   ]
  },
  {
   "cell_type": "code",
   "execution_count": null,
   "metadata": {},
   "outputs": [],
   "source": [
    "sns.scatterplot(data=df, x='floor_area_sqm', y='resale_price')"
   ]
  },
  {
   "cell_type": "markdown",
   "metadata": {},
   "source": [
    "## Partition Data"
   ]
  },
  {
   "cell_type": "code",
   "execution_count": null,
   "metadata": {},
   "outputs": [],
   "source": [
    "X = df.drop(columns='resale_price')\n",
    "y = df['resale_price']\n",
    "X_train, X_test, y_train, y_test = train_test_split(X, y, shuffle=True, test_size=0.25)"
   ]
  },
  {
   "cell_type": "markdown",
   "metadata": {},
   "source": [
    "## Build ML Pipeline"
   ]
  },
  {
   "cell_type": "code",
   "execution_count": null,
   "metadata": {},
   "outputs": [],
   "source": [
    "from sklearn.base import BaseEstimator, TransformerMixin\n",
    "\n",
    "class DateConverter(BaseEstimator, TransformerMixin):\n",
    "    def fit(self, X, y=None):\n",
    "        return self\n",
    "\n",
    "    def transform(self, X, y=None):\n",
    "        X_copy = X.copy()\n",
    "        X_copy['approval_date'] = X_copy['approval_date'].apply(date.toordinal)\n",
    "        return X_copy"
   ]
  },
  {
   "cell_type": "code",
   "execution_count": null,
   "metadata": {},
   "outputs": [],
   "source": [
    "pipeline = Pipeline(steps=[\n",
    "    ('date_conv', DateConverter()),\n",
    "    ('scaler', StandardScaler()),\n",
    "    ('model', LinearRegression(fit_intercept=True))\n",
    "])"
   ]
  },
  {
   "cell_type": "code",
   "execution_count": null,
   "metadata": {},
   "outputs": [],
   "source": [
    "cross_val_score(estimator=pipeline, X=X_train, y=y_train, cv=5)"
   ]
  },
  {
   "cell_type": "markdown",
   "metadata": {},
   "source": [
    "## Model Evaluation"
   ]
  },
  {
   "cell_type": "code",
   "execution_count": null,
   "metadata": {},
   "outputs": [],
   "source": [
    "# Train the model\n",
    "pipeline.fit(X_train, y_train)"
   ]
  },
  {
   "cell_type": "code",
   "execution_count": null,
   "metadata": {},
   "outputs": [],
   "source": [
    "y_train_pred = pipeline.predict(X_train)\n",
    "mean_absolute_percentage_error(y_train, y_train_pred), \\\n",
    "mean_absolute_error(y_train, y_train_pred), \\\n",
    "r2_score(y_train, y_train_pred)"
   ]
  },
  {
   "cell_type": "code",
   "execution_count": null,
   "metadata": {},
   "outputs": [],
   "source": [
    "y_pred = pipeline.predict(X_test)\n",
    "mean_absolute_percentage_error(y_test, y_pred), \\\n",
    "mean_absolute_error(y_test, y_pred), \\\n",
    "r2_score(y_test, y_pred)"
   ]
  },
  {
   "cell_type": "code",
   "execution_count": null,
   "metadata": {},
   "outputs": [],
   "source": [
    "pipeline.named_steps['model'].coef_"
   ]
  },
  {
   "cell_type": "code",
   "execution_count": null,
   "metadata": {},
   "outputs": [],
   "source": [
    "def create_stencil(variable: str, **kwargs):\n",
    "    length = len(kwargs[variable])\n",
    "    for i in kwargs:\n",
    "        if i != variable:\n",
    "            kwargs[i] = np.resize(np.array([kwargs[i]]), (length,))\n",
    "    return pd.DataFrame(kwargs)[['floor_area_sqm', 'approval_date', 'lease_commencement_year', 'bedrooms']]"
   ]
  },
  {
   "cell_type": "code",
   "execution_count": null,
   "metadata": {},
   "outputs": [],
   "source": [
    "def get_regression_plot(variable, mark, ax, **kwargs):\n",
    "    x_var = df[variable]\n",
    "    x = (x_var.min(), x_var.max())\n",
    "    del kwargs[variable]\n",
    "    y = pipeline.predict(create_stencil(variable, **{variable: x}, **kwargs))\n",
    "    resale_price = pipeline.predict(create_stencil(\n",
    "        variable, **{variable: (mark,)}, **kwargs))\n",
    "    sns.lineplot(x=x, y=y, ax=ax)\n",
    "    sns.scatterplot(x=mark, y=resale_price, ax=ax)"
   ]
  },
  {
   "cell_type": "code",
   "execution_count": null,
   "metadata": {},
   "outputs": [],
   "source": [
    "def get_regression_plots(bedrooms, floor_area_sqm, approval_date, lease_commencement_year):\n",
    "    fig, ax = plt.subplots(2, 2)\n",
    "    get_regression_plot(variable='bedrooms', mark=bedrooms, bedrooms=bedrooms, floor_area_sqm=floor_area_sqm,\n",
    "                        approval_date=approval_date, lease_commencement_year=lease_commencement_year, ax=ax[0, 0])\n",
    "    get_regression_plot(variable='floor_area_sqm', mark=bedrooms, bedrooms=bedrooms, floor_area_sqm=floor_area_sqm,\n",
    "                        approval_date=approval_date, lease_commencement_year=lease_commencement_year, ax=ax[0, 1])\n",
    "    # get_regression_plot(variable='approval_date', mark=bedrooms, bedrooms=bedrooms, floor_area_sqm=floor_area_sqm,\n",
    "                        # approval_date=approval_date, lease_commencement_year=lease_commencement_year, ax=ax[1, 0])\n",
    "    get_regression_plot(variable='lease_commencement_year', mark=bedrooms, bedrooms=bedrooms, floor_area_sqm=floor_area_sqm,\n",
    "                        approval_date=approval_date, lease_commencement_year=lease_commencement_year, ax=ax[1, 1])\n",
    "    return fig\n"
   ]
  },
  {
   "cell_type": "code",
   "execution_count": null,
   "metadata": {},
   "outputs": [],
   "source": [
    "get_regression_plots(3, 31.0, date(2000, 12, 12), 2000)\n",
    "''"
   ]
  },
  {
   "cell_type": "markdown",
   "metadata": {},
   "source": [
    "## Model Export"
   ]
  },
  {
   "cell_type": "code",
   "execution_count": null,
   "metadata": {},
   "outputs": [],
   "source": [
    "# import pickle\n",
    "\n",
    "# with open('./model/regressor.p', 'wb') as model_file:\n",
    "#     pickle.dump(file=model_file, obj=pipeline)"
   ]
  }
 ],
 "metadata": {
  "interpreter": {
   "hash": "903f17760bf9cfa59f44961d0ea416698e630e30d65fb8b5c50ed189835dfac9"
  },
  "kernelspec": {
   "display_name": "Python 3.9.7 64-bit ('.venv': pipenv)",
   "name": "python3"
  },
  "language_info": {
   "codemirror_mode": {
    "name": "ipython",
    "version": 3
   },
   "file_extension": ".py",
   "mimetype": "text/x-python",
   "name": "python",
   "nbconvert_exporter": "python",
   "pygments_lexer": "ipython3",
   "version": "3.9.7"
  },
  "orig_nbformat": 4
 },
 "nbformat": 4,
 "nbformat_minor": 2
}
